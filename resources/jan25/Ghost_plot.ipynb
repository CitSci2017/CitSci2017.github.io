{
 "cells": [
  {
   "cell_type": "code",
   "execution_count": null,
   "metadata": {
    "collapsed": false
   },
   "outputs": [],
   "source": [
    "# load the packages we need\n",
    "import pandas as pd\n",
    "import pygal\n",
    "import numpy as np"
   ]
  },
  {
   "cell_type": "code",
   "execution_count": null,
   "metadata": {
    "collapsed": false
   },
   "outputs": [],
   "source": [
    "# load the appropriate csv file with the simulation data\n",
    "zFrame=pd.read_csv('nCounts.csv');\n",
    "# extract the relevant parameters\n",
    "n=zFrame.nT[0];\n",
    "pZombie=zFrame.pZ[0];\n",
    "pInfection=zFrame.pI[0];"
   ]
  },
  {
   "cell_type": "code",
   "execution_count": null,
   "metadata": {
    "collapsed": false
   },
   "outputs": [],
   "source": [
    "xy_chart = pygal.XY()\n",
    "xy_chart.title = str('SIZ model (n = ' + str(n) + '; pZombie = ' + str(pZombie) + '; pInfection = ' + str(pInfection) + ')')\n",
    "xy_chart.x_title='Time (frames)'\n",
    "xy_chart.y_title='Number of subjects'\n",
    "xy_chart.add('Susceptible',  list(zip(zFrame.nFrame,zFrame.nS)))\n",
    "xy_chart.add('Infected',  list(zip(zFrame.nFrame,zFrame.nI)))\n",
    "xy_chart.add('Zombie',  list(zip(zFrame.nFrame,zFrame.nZ)))\n",
    "xy_chart.render_to_file('zombies.svg') "
   ]
  },
  {
   "cell_type": "code",
   "execution_count": null,
   "metadata": {
    "collapsed": false
   },
   "outputs": [],
   "source": []
  },
  {
   "cell_type": "code",
   "execution_count": null,
   "metadata": {
    "collapsed": false
   },
   "outputs": [],
   "source": []
  },
  {
   "cell_type": "code",
   "execution_count": null,
   "metadata": {
    "collapsed": true
   },
   "outputs": [],
   "source": []
  }
 ],
 "metadata": {
  "kernelspec": {
   "display_name": "Python 3",
   "language": "python",
   "name": "python3"
  },
  "language_info": {
   "codemirror_mode": {
    "name": "ipython",
    "version": 3
   },
   "file_extension": ".py",
   "mimetype": "text/x-python",
   "name": "python",
   "nbconvert_exporter": "python",
   "pygments_lexer": "ipython3",
   "version": "3.5.2"
  }
 },
 "nbformat": 4,
 "nbformat_minor": 0
}
