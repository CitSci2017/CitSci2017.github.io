{
 "cells": [
  {
   "cell_type": "markdown",
   "metadata": {},
   "source": [
    "# ANALYSIS OF PRISM ADAPTATION AND ACOUSTIC CUES"
   ]
  },
  {
   "cell_type": "markdown",
   "metadata": {
    "collapsed": true
   },
   "source": [
    "> Open a document in a text editor to answer some questions, then proceed with this notebook."
   ]
  },
  {
   "cell_type": "markdown",
   "metadata": {},
   "source": [
    "> First import the relevant packages"
   ]
  },
  {
   "cell_type": "code",
   "execution_count": 4,
   "metadata": {
    "collapsed": true
   },
   "outputs": [],
   "source": [
    "import pygal\n",
    "import numpy as np\n",
    "import pandas as pd"
   ]
  },
  {
   "cell_type": "markdown",
   "metadata": {},
   "source": [
    "> Then let's define useful variables"
   ]
  },
  {
   "cell_type": "code",
   "execution_count": 5,
   "metadata": {
    "collapsed": true
   },
   "outputs": [],
   "source": [
    "# Experimental subjects\n",
    "Names = ['Paloma','Corey','Emma','Maizy','Jane','Michael','Megan']\n",
    "# Number of throws\n",
    "Throws=range(20)"
   ]
  },
  {
   "cell_type": "markdown",
   "metadata": {},
   "source": [
    "> For the data below, each row corresponds to a set of 20 throws by one experimental subject.\n",
    "> The numbers correspond to the ring where the sandbag landed.\n",
    "> 'NaN' stands for 'not a number' because the data is missing (does somebody have it?).\n",
    "> Load the data by running each of the cells"
   ]
  },
  {
   "cell_type": "code",
   "execution_count": 6,
   "metadata": {
    "collapsed": true
   },
   "outputs": [],
   "source": [
    "# No prism glasses and no acoustic cues\n",
    "Control=np.empty([7,20]);\n",
    "Control[0,0:]=[3,2,2,2,1,1,3,2,1,1,1,0,1,1,2,0,0,1,2,0];\n",
    "Control[1,0:]=[1,0,2,1,2,0,1,1,0,2,1,1,3,1,0,1,1,0,1,0];\n",
    "Control[2,0:]=[3,1,1,0,3,2,2,2,0,1,1,1,3,1,1,3,1,1,1,1];\n",
    "Control[3,0:]=['NaN','NaN','NaN','NaN','NaN','NaN','NaN','NaN','NaN','NaN','NaN','NaN','NaN','NaN','NaN','NaN','NaN','NaN','NaN','NaN'];\n",
    "Control[4,0:]=['NaN','NaN','NaN','NaN','NaN','NaN','NaN','NaN','NaN','NaN','NaN','NaN','NaN','NaN','NaN','NaN','NaN','NaN','NaN','NaN'];\n",
    "Control[5,0:]=[1,1,2,1,1,1,1,2,1,1,2,1,1,2,1,1,3,1,2,1];\n",
    "Control[6,0:]=[3,2,2,2,1,2,2,1,2,1,1,3,2,2,1,2,2,2,2,2];"
   ]
  },
  {
   "cell_type": "code",
   "execution_count": 7,
   "metadata": {
    "collapsed": true
   },
   "outputs": [],
   "source": [
    "# Prism glasses and no acoustic cues\n",
    "Prism=np.empty([7,20]);\n",
    "Prism[0,0:]=['NaN','NaN','NaN','NaN','NaN','NaN','NaN','NaN','NaN','NaN','NaN','NaN','NaN','NaN','NaN','NaN','NaN','NaN','NaN','NaN'];\n",
    "Prism[1,0:]=[3,2,2,2,1,2,1,2,1,1,2,1,1,1,1,2,2,1,1,1];\n",
    "Prism[2,0:]=[4,3,2,3,2,4,4,4,4,3,4,2,2,4,2,2,3,2,2,0];\n",
    "Prism[3,0:]=[2,3,2,2,2,2,1,1,2,2,2,2,1,1,2,2,2,1,1,1];\n",
    "Prism[4,0:]=['NaN','NaN','NaN','NaN','NaN','NaN','NaN','NaN','NaN','NaN','NaN','NaN','NaN','NaN','NaN','NaN','NaN','NaN','NaN','NaN'];\n",
    "Prism[5,0:]=[2,3,1,2,3,2,2,2,2,1,1,1,1,1,1,2,1,1,2,2];\n",
    "Prism[6,0:]=[2,4,2,4,1,3,2,3,1,2,1,1,3,2,3,1,3,3,1,3];"
   ]
  },
  {
   "cell_type": "code",
   "execution_count": 8,
   "metadata": {
    "collapsed": true
   },
   "outputs": [],
   "source": [
    "Music=np.empty([7,20]);\n",
    "Music[0,0:]=[3,2,2,4,1,2,2,2,1,2,1,2,0,3,2,2,0,0,1,3];\n",
    "Music[1,0:]=[1,2,2,2,1,1,2,2,2,1,2,1,3,0,1,1,2,0,1,1];\n",
    "Music[2,0:]=[4,4,2,2,1,1,3,3,4,2,2,3,2,0,1,2,1,1,1,2];\n",
    "Music[3,0:]=[3,1,2,1,2,0,2,2,1,3,1,2,2,1,2,2,2,2,2,1];\n",
    "Music[4,0:]=[4,4,1,4,4,2,1,2,2,2,3,2,4,2,2,2,1,2,1,1];\n",
    "Music[5,0:]=[4,3,3,1,1,2,2,1,3,2,1,1,3,2,1,1,3,2,2,1];\n",
    "Music[6,0:]=['NaN','NaN','NaN','NaN','NaN','NaN','NaN','NaN','NaN','NaN','NaN','NaN','NaN','NaN','NaN','NaN','NaN','NaN','NaN','NaN'];"
   ]
  },
  {
   "cell_type": "code",
   "execution_count": 9,
   "metadata": {
    "collapsed": true
   },
   "outputs": [],
   "source": [
    "Blind=np.empty([7,20]);\n",
    "Blind[0,0:]=[3,3,3,2,3,3,1,3,3,3,3,3,3,3,3,4,3,2,1,2];\n",
    "Blind[1,0:]=[4,4,4,4,4,4,4,4,4,4,3,4,4,4,4,4,4,4,4,4];\n",
    "Blind[2,0:]=[3,4,4,4,3,4,4,4,4,4,4,4,4,4,4,4,4,4,4,4];\n",
    "Blind[3,0:]=[2,3,2,1,3,2,2,2,1,0,3,3,3,1,2,2,3,4,3,1];\n",
    "Blind[4,0:]=[1,1,0,1,2,1,2,2,1,1,2,2,1,3,1,1,2,2,2,3];\n",
    "Blind[5,0:]=[3,2,2,3,1,1,2,2,1,1,3,2,2,1,2,2,2,2,3,3];\n",
    "Blind[6,0:]=['NaN','NaN','NaN','NaN','NaN','NaN','NaN','NaN','NaN','NaN','NaN','NaN','NaN','NaN','NaN','NaN','NaN','NaN','NaN','NaN'];"
   ]
  },
  {
   "cell_type": "markdown",
   "metadata": {},
   "source": [
    "> Plot the control data first. Here is an example for the controls."
   ]
  },
  {
   "cell_type": "code",
   "execution_count": 11,
   "metadata": {
    "collapsed": false
   },
   "outputs": [],
   "source": [
    "# Control graph\n",
    "fig1 = pygal.XY(show_y_guides=False, dots_size=5, stroke_style={'width': 3})\n",
    "fig1.title = 'Control (no prism, no acoustic cues)'\n",
    "fig1.x_title = 'Throw number'\n",
    "fig1.y_title = 'Ring number'\n",
    "fig1.y_labels=[0,1,2,3,4];\n",
    "fig1.add(Names[0], list(zip(Throws,Control[0,0:])))\n",
    "fig1.add(Names[1], list(zip(Throws,Control[1,0:])))\n",
    "fig1.add(Names[2], list(zip(Throws,Control[2,0:])))\n",
    "fig1.add(Names[3], list(zip(Throws,Control[3,0:])))\n",
    "fig1.add(Names[4], list(zip(Throws,Control[4,0:])))\n",
    "fig1.add(Names[5], list(zip(Throws,Control[5,0:])))\n",
    "fig1.add(Names[6], list(zip(Throws,Control[6,0:])))\n",
    "fig1.add('Mean', list(zip(Throws,np.nanmean(Control, axis=0))))\n",
    "fig1.render_to_file('Control.svg')"
   ]
  },
  {
   "cell_type": "markdown",
   "metadata": {},
   "source": [
    "> Remember to open a new tab on the browser and to load the .svg file pygal just saved"
   ]
  },
  {
   "cell_type": "markdown",
   "metadata": {},
   "source": [
    "> The line 'fig1.add('Mean', list(zip(Throws,np.nanmean(Control, axis=0))))' is calculating the mean (or average) of the 'Control' variable while omitting any NaN from the calculation"
   ]
  },
  {
   "cell_type": "markdown",
   "metadata": {},
   "source": [
    "> Now copy the commands for 'Control data' in a new cell and create new graphs for each of our conditions. Remember to change the name of the svg file (otherwise Control.svg will be overwritten)."
   ]
  },
  {
   "cell_type": "code",
   "execution_count": null,
   "metadata": {
    "collapsed": true
   },
   "outputs": [],
   "source": [
    "# Prism graph\n"
   ]
  },
  {
   "cell_type": "code",
   "execution_count": null,
   "metadata": {
    "collapsed": true
   },
   "outputs": [],
   "source": [
    "# Music + prism graph\n"
   ]
  },
  {
   "cell_type": "code",
   "execution_count": null,
   "metadata": {
    "collapsed": true
   },
   "outputs": [],
   "source": [
    "# Blind graph\n"
   ]
  },
  {
   "cell_type": "markdown",
   "metadata": {},
   "source": [
    "> Question 1: What preliminary conclusions/interpretations of our data can you make for each group (i.e., what does each graph tell you)?"
   ]
  },
  {
   "cell_type": "markdown",
   "metadata": {},
   "source": [
    "> Make a new graph that only contains the averages (or means) for each experimental condition."
   ]
  },
  {
   "cell_type": "code",
   "execution_count": 12,
   "metadata": {
    "collapsed": true
   },
   "outputs": [],
   "source": [
    "# Average graph\n"
   ]
  },
  {
   "cell_type": "markdown",
   "metadata": {},
   "source": [
    "> Question 2: Can you make any interpretations by comparing the averages across groups?"
   ]
  },
  {
   "cell_type": "markdown",
   "metadata": {},
   "source": [
    "> Question 3: Is there another way to analyze/graph the data that would give you some other information?"
   ]
  },
  {
   "cell_type": "code",
   "execution_count": null,
   "metadata": {
    "collapsed": true
   },
   "outputs": [],
   "source": []
  }
 ],
 "metadata": {
  "kernelspec": {
   "display_name": "Python 3",
   "language": "python",
   "name": "python3"
  },
  "language_info": {
   "codemirror_mode": {
    "name": "ipython",
    "version": 3
   },
   "file_extension": ".py",
   "mimetype": "text/x-python",
   "name": "python",
   "nbconvert_exporter": "python",
   "pygments_lexer": "ipython3",
   "version": "3.5.2"
  }
 },
 "nbformat": 4,
 "nbformat_minor": 0
}
