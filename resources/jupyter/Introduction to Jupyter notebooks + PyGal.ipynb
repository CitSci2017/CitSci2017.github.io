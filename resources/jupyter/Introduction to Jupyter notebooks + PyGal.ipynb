{
 "cells": [
  {
   "cell_type": "markdown",
   "metadata": {},
   "source": [
    "> \"The Jupyter Notebook is a web application that allows you to create and share documents that contain live code, equations, visualizations and explanatory text. Uses include: data cleaning and transformation, numerical simulation, statistical modeling, machine learning and much more.\" [(jupyter.org)](http://jupyter.org/)\n",
    ">\n",
    "> We will be using Jupyter Notebooks to analyze and plot data that we gather in class, using Python as the underlying language\n",
    ">\n",
    "> Python is a programming language that is flexible, well supported and open source [(python.org)](https://www.python.org/doc/essays/blurb/). It may be of use to you unexpectedly in the future (_especially you historians and written-art majors!_), so keep these notes for future reference.\n"
   ]
  },
  {
   "cell_type": "markdown",
   "metadata": {},
   "source": [
    "### Instructions\n",
    "- 'Shift+Enter' within each of the cells below to run them.\n",
    "- While the computations included in the cell are running, you should see \"In [\\*]\" on the left\n",
    "- When the computations have finished running, a number will appear within the brackets (e.g. \"In [2]\")\n",
    "- '#' denotes a comment in the code\n",
    "- Jupyter uses tab for code completion\n",
    "- Indexing in python starts at 0"
   ]
  },
  {
   "cell_type": "code",
   "execution_count": null,
   "metadata": {
    "collapsed": false
   },
   "outputs": [],
   "source": [
    "# this would be a comment\n",
    "# cells like this are like an advanced calculator\n",
    "# for example:\n",
    "2+2"
   ]
  },
  {
   "cell_type": "markdown",
   "metadata": {},
   "source": [
    ">**Pandas** is the software package that you will use to generate \"data frames\" which are just Python representations of data that you have collected.\n",
    "Just as in processing, you can use any of the pandas functions by using pd.functionname"
   ]
  },
  {
   "cell_type": "markdown",
   "metadata": {},
   "source": [
    "> **Numpy** is the software package that you will use for computations and analysis. We will just be scratching its surface in terms of capabilities."
   ]
  },
  {
   "cell_type": "markdown",
   "metadata": {},
   "source": [
    "> **Pygal** is the software package that you will use to generate plots and graphs. Although is has limitations on data formatting, the graphs are high quality and easy to format. Also [Pygal](http://www.pygal.org/en/stable/index.html) is well documented "
   ]
  },
  {
   "cell_type": "code",
   "execution_count": null,
   "metadata": {
    "collapsed": true
   },
   "outputs": [],
   "source": [
    "# Load the packages into memory by running this cell\n",
    "import pandas as pd\n",
    "import numpy as np\n",
    "import pygal"
   ]
  },
  {
   "cell_type": "code",
   "execution_count": null,
   "metadata": {
    "collapsed": false
   },
   "outputs": [],
   "source": [
    "# Example of how to use pandas to read and load a \"comma-separated-value\" or csv file. \n",
    "# You can create csv files in any text editor (like notepad)\n",
    "# or in programs that use spreadsheets (Excel/Numbers/Google Sheets)\n",
    "ecoli = pd.read_csv(\"kb_ecoli.csv\")"
   ]
  },
  {
   "cell_type": "code",
   "execution_count": null,
   "metadata": {
    "collapsed": false
   },
   "outputs": [],
   "source": [
    "# You can display the data you just loaded in a table\n",
    "ecoli"
   ]
  },
  {
   "cell_type": "code",
   "execution_count": null,
   "metadata": {
    "collapsed": false
   },
   "outputs": [],
   "source": [
    "# Start by replacing \"ab#\" in the csv file by the real antibiotic name\n",
    "# that we used in the microbiology laboratory and then reload the data\n",
    "# if you did this correctly, the table should have the correct names\n",
    "ecoli = pd.read_csv(\"kb_ecoli.csv\")\n",
    "ecoli"
   ]
  },
  {
   "cell_type": "code",
   "execution_count": null,
   "metadata": {
    "collapsed": false
   },
   "outputs": [],
   "source": [
    "# We can extract the data from a single column using its name\n",
    "antibiotic1=ecoli.ab1"
   ]
  },
  {
   "cell_type": "code",
   "execution_count": null,
   "metadata": {
    "collapsed": false
   },
   "outputs": [],
   "source": [
    "# or by its location in the data frame\n",
    "antibiotic12=ecoli.iloc[0:,11]\n",
    "antibiotic12"
   ]
  },
  {
   "cell_type": "code",
   "execution_count": null,
   "metadata": {
    "collapsed": false
   },
   "outputs": [],
   "source": [
    "# you can also check the name of the column (remember python indexing starts at 0!)\n",
    "ecoli.columns[0]"
   ]
  },
  {
   "cell_type": "code",
   "execution_count": null,
   "metadata": {
    "collapsed": false
   },
   "outputs": [],
   "source": [
    "# Or we can directly calculate average values using numpy\n",
    "antibiotic1=np.mean(ecoli.ab1)\n",
    "antibiotic1"
   ]
  },
  {
   "cell_type": "code",
   "execution_count": null,
   "metadata": {
    "collapsed": false
   },
   "outputs": [],
   "source": [
    "antibiotic12=np.mean(ecoli.ab12)\n",
    "antibiotic12"
   ]
  },
  {
   "cell_type": "code",
   "execution_count": null,
   "metadata": {
    "collapsed": false
   },
   "outputs": [],
   "source": [
    "# and we can already create a bar graph that displays the data with pygal\n",
    "bar_chart = pygal.Bar()\n",
    "bar_chart.title = \"Kirby Bauer results for E.coli\"\n",
    "bar_chart.x_labels = 'ab1','ab12';\n",
    "bar_chart.add('name of ab1', antibiotic1)\n",
    "bar_chart.add(ecoli.columns[11], antibiotic12)\n",
    "bar_chart.render_to_file('kirbybauer.svg')\n",
    "# the graph was saved as an svg file in your working directory\n",
    "# you can open that svg file in a new browser tab"
   ]
  },
  {
   "cell_type": "code",
   "execution_count": null,
   "metadata": {
    "collapsed": false
   },
   "outputs": [],
   "source": [
    "# we can use some optional arguments to put labels\n",
    "bar_chart = pygal.Bar()\n",
    "bar_chart.title = \"Kirby Bauer results for E.coli\"\n",
    "bar_chart.x_title = 'Antibiotics';\n",
    "bar_chart.y_title = 'Zone of inhibition (mm)';\n",
    "bar_chart.add('name of ab1', antibiotic1)\n",
    "bar_chart.add(ecoli.columns[11], antibiotic12)\n",
    "# bar_chart.x_labels = [{'label': 'AB1','value': 1},{'label': 'AB12','value': 12}]\n",
    "bar_chart.render_to_file('kirbybauer.svg')\n",
    "# reload the tab that contains the graph"
   ]
  },
  {
   "cell_type": "markdown",
   "metadata": {},
   "source": [
    "> Add the rest of the antibiotis to the graph"
   ]
  },
  {
   "cell_type": "code",
   "execution_count": null,
   "metadata": {
    "collapsed": true
   },
   "outputs": [],
   "source": [
    "# you could even use advanced options to put error bars \n",
    "# and using numpy's standard deviation function: np.std()\n",
    "bar_chart = pygal.Bar()\n",
    "bar_chart.title = \"Kirby Bauer results for E.coli\"\n",
    "bar_chart.x_title = 'Antibiotics';\n",
    "bar_chart.y_title = 'Zone of inhibition (mm)';\n",
    "bar_chart.add('name of ab1', antibiotic1)\n",
    "bar_chart.add(ecoli.columns[11], [{'value': antibiotic12, 'ci': \n",
    "                                  {'low': np.mean(ecoli.ab12)-np.std(ecoli.ab12), 'high': np.mean(ecoli.ab12)+np.std(ecoli.ab12)}}])\n",
    "# bar_chart.add('Second', [{'value': np.mean(ecoli.ab2), 'ci': {'high': 5}}])\n",
    "bar_chart.render_to_file('kirbybauer.svg')\n",
    "# reload the tab that contains the graph"
   ]
  },
  {
   "cell_type": "markdown",
   "metadata": {},
   "source": [
    ">Then use the data contained in kb_gfp.csv and kb_env.csv and similar procedures to generate graphs for the rest of the data we collected with the Kirby-Bauer assay"
   ]
  },
  {
   "cell_type": "markdown",
   "metadata": {},
   "source": [
    "> Once you are done, let me know and we can move on to other plots"
   ]
  },
  {
   "cell_type": "code",
   "execution_count": null,
   "metadata": {
    "collapsed": true
   },
   "outputs": [],
   "source": []
  }
 ],
 "metadata": {
  "kernelspec": {
   "display_name": "Python 3",
   "language": "python",
   "name": "python3"
  },
  "language_info": {
   "codemirror_mode": {
    "name": "ipython",
    "version": 3
   },
   "file_extension": ".py",
   "mimetype": "text/x-python",
   "name": "python",
   "nbconvert_exporter": "python",
   "pygments_lexer": "ipython3",
   "version": "3.5.2"
  }
 },
 "nbformat": 4,
 "nbformat_minor": 0
}
