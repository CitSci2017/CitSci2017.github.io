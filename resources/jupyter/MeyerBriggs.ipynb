{
 "cells": [
  {
   "cell_type": "code",
   "execution_count": 1,
   "metadata": {
    "collapsed": true
   },
   "outputs": [],
   "source": [
    "import pygal\n",
    "import numpy as np\n",
    "import pandas as pd"
   ]
  },
  {
   "cell_type": "code",
   "execution_count": 36,
   "metadata": {
    "collapsed": true
   },
   "outputs": [],
   "source": [
    "from pygal.style import CleanStyle"
   ]
  },
  {
   "cell_type": "code",
   "execution_count": 3,
   "metadata": {
    "collapsed": false
   },
   "outputs": [
    {
     "data": {
      "text/plain": [
       "[1, 2, 3, 4, 5, 6, 7, 8]"
      ]
     },
     "execution_count": 3,
     "metadata": {},
     "output_type": "execute_result"
    }
   ],
   "source": [
    "throw = [1,2,3,4,5,6,7,8];\n",
    "throw"
   ]
  },
  {
   "cell_type": "code",
   "execution_count": 4,
   "metadata": {
    "collapsed": true
   },
   "outputs": [],
   "source": [
    "Paloma_c = [2,2,3,3,1,1,2,1]\n",
    "Paloma_p = [1,1,2,2,1,2,2,2]\n",
    "Paloma_n = [1,1,2,2,1,1,2,1]"
   ]
  },
  {
   "cell_type": "code",
   "execution_count": 5,
   "metadata": {
    "collapsed": true
   },
   "outputs": [],
   "source": [
    "Raphael_c = [3,1,2,2,2,1,2,2]\n",
    "Raphael_p = [2,2,2,2,1,2,2,3]\n",
    "Raphael_n = [1,1,1,1,1,1,2,1]"
   ]
  },
  {
   "cell_type": "code",
   "execution_count": 6,
   "metadata": {
    "collapsed": true
   },
   "outputs": [],
   "source": [
    "Alex_c = [4,3,3,2,2,3,2,3]\n",
    "Alex_p = [3,2,1,1,1,1,2,1]\n",
    "Alex_n = [2,1,3,1,1,2,2,2]"
   ]
  },
  {
   "cell_type": "code",
   "execution_count": 7,
   "metadata": {
    "collapsed": true
   },
   "outputs": [],
   "source": [
    "Charlotte_c = [3,3,1,2,3,2,3,2]\n",
    "Charlotte_p = [2,4,1,1,1,1,1,2]\n",
    "Charlotte_n = [2,1,3,1,1,1,1,1]"
   ]
  },
  {
   "cell_type": "code",
   "execution_count": 38,
   "metadata": {
    "collapsed": false
   },
   "outputs": [],
   "source": [
    "# Paloma\n",
    "fig1 = pygal.XY(show_y_guides=False, dots_size=5, stroke_style={'width': 3}, style=CleanStyle)\n",
    "fig1.title = 'Prism adaptation data'\n",
    "fig1.x_title = 'Throw number'\n",
    "fig1.y_title = 'Ring number'\n",
    "fig1.y_labels=[0,1,2,3,4];\n",
    "fig1.add('Paloma(Control)', list(zip(throw,Paloma_c)))\n",
    "fig1.add('Paloma(Pos)', list(zip(throw,Paloma_p)))\n",
    "fig1.add('Paloma(Neg)', list(zip(throw,Paloma_n)))\n",
    "fig1.render_to_file('MB_Paloma.svg')"
   ]
  },
  {
   "cell_type": "code",
   "execution_count": 39,
   "metadata": {
    "collapsed": true
   },
   "outputs": [],
   "source": [
    "# Raphael\n",
    "fig1 = pygal.XY(show_y_guides=False, dots_size=5, stroke_style={'width': 3}, style=CleanStyle)\n",
    "fig1.title = 'Prism adaptation data'\n",
    "fig1.x_title = 'Throw number'\n",
    "fig1.y_title = 'Ring number'\n",
    "fig1.y_labels=[0,1,2,3,4];\n",
    "fig1.add('Raphael(Control)', list(zip(throw,Raphael_c)))\n",
    "fig1.add('Raphael(Pos)', list(zip(throw,Raphael_p)))\n",
    "fig1.add('Raphael(Neg)', list(zip(throw,Raphael_n)))\n",
    "fig1.render_to_file('MB_Raphael.svg')"
   ]
  },
  {
   "cell_type": "code",
   "execution_count": 40,
   "metadata": {
    "collapsed": true
   },
   "outputs": [],
   "source": [
    "# Alex\n",
    "fig1 = pygal.XY(show_y_guides=False, dots_size=5, stroke_style={'width': 3}, style=CleanStyle)\n",
    "fig1.title = 'Prism adaptation data'\n",
    "fig1.x_title = 'Throw number'\n",
    "fig1.y_title = 'Ring number'\n",
    "fig1.y_labels=[0,1,2,3,4];\n",
    "fig1.add('Alex(Control)', list(zip(throw,Alex_c)))\n",
    "fig1.add('Alex(Pos)', list(zip(throw,Alex_p)))\n",
    "fig1.add('Alex(Neg)', list(zip(throw,Alex_n)))\n",
    "fig1.render_to_file('MB_Alex.svg')"
   ]
  },
  {
   "cell_type": "code",
   "execution_count": 41,
   "metadata": {
    "collapsed": true
   },
   "outputs": [],
   "source": [
    "# Charlotte\n",
    "fig1 = pygal.XY(show_y_guides=False, dots_size=5, stroke_style={'width': 3}, style=CleanStyle)\n",
    "fig1.title = 'Prism adaptation data'\n",
    "fig1.x_title = 'Throw number'\n",
    "fig1.y_title = 'Ring number'\n",
    "fig1.y_labels=[0,1,2,3,4];\n",
    "fig1.add('Charlotte(Control)', list(zip(throw,Charlotte_c)))\n",
    "fig1.add('Charlotte(Pos)', list(zip(throw,Charlotte_p)))\n",
    "fig1.add('Charlotte(Neg)', list(zip(throw,Charlotte_n)))\n",
    "fig1.render_to_file('MB_Charlotte.svg')"
   ]
  },
  {
   "cell_type": "code",
   "execution_count": 53,
   "metadata": {
    "collapsed": true
   },
   "outputs": [],
   "source": [
    "Sam_cthrow = range(34);\n",
    "Sam_c = [2,2,1,2,3,2,2,4,2,1,3,2,1,1,3,1,3,1,2,1,1,2,1,2,1,2,1,2,1,2,1,1,1]\n",
    "Sam_pthrow = range(39);\n",
    "Sam_p = [4,4,4,4,4,3,4,4,4,5,1,2,1,3,3,2,3,1,2,2,3,2,1,2,1,2,2,2,2,2,2,2,1,2,2,2,1,1,1\n",
    "]\n",
    "Sam_nthrow = range(6)\n",
    "Sam_n = [3,2,2,1,1,1]\n",
    "\n",
    "# Sam\n",
    "fig1 = pygal.XY(show_y_guides=False, dots_size=5, stroke_style={'width': 3}, style=CleanStyle)\n",
    "fig1.title = 'Prism adaptation data'\n",
    "fig1.x_title = 'Throw number'\n",
    "fig1.y_title = 'Ring number'\n",
    "fig1.y_labels=[0,1,2,3,4];\n",
    "fig1.add('Sam(Control)', list(zip(Sam_cthrow,Sam_c)))\n",
    "fig1.add('Sam(Pos)', list(zip(Sam_pthrow,Sam_p)))\n",
    "fig1.add('Sam(Neg)', list(zip(Sam_nthrow,Sam_n)))\n",
    "fig1.render_to_file('MB_Sam.svg')"
   ]
  },
  {
   "cell_type": "code",
   "execution_count": 55,
   "metadata": {
    "collapsed": false
   },
   "outputs": [],
   "source": [
    "Bruno_cthrow = range(16);\n",
    "Bruno_c = [3,2,3,2,5,5,4,2,1,1,2,3,2,1,1,1]\n",
    "Bruno_pthrow = range(65);\n",
    "Bruno_p = [3,4,1,4,1,2,2,4,1,1,4,4,1,3,4,2,2,2,2,2,1,3,3,5,2,2,2,2,2,2,1,2,2,1,2,2,3,1,1,2,2,1,2,2,1,1,2,1,2,2,3,3,1,3,2,1,1,2,2,1,2,1,1,1]\n",
    "Bruno_nthrow = range(85)\n",
    "Bruno_n = [2,2,2,3,5,3,5,2,3,2,2,2,3,4,2,2,1,2,1,2,2,2,1,3,1,3,1,2,2,2,2,5,2,1,2,2,1,4,3,5,2,2,1,2,2,2,1,1,4,1,1,2,2,2,2,2,1,2,2,2,2,2,2,2,4,2,2,1,2,2,2,2,2,1,2,1,2,2,2,3,1,2,1,1,1]\n",
    "\n",
    "# Bruno\n",
    "fig1 = pygal.XY(show_y_guides=False, dots_size=5, stroke_style={'width': 3}, style=CleanStyle)\n",
    "fig1.title = 'Prism adaptation data'\n",
    "fig1.x_title = 'Throw number'\n",
    "fig1.y_title = 'Ring number'\n",
    "fig1.y_labels=[0,1,2,3,4];\n",
    "fig1.add('Bruno(Control)', list(zip(Bruno_cthrow,Bruno_c)))\n",
    "fig1.add('Bruno(Pos)', list(zip(Bruno_pthrow,Bruno_p)))\n",
    "fig1.add('Bruno(Neg)', list(zip(Bruno_nthrow,Bruno_n)))\n",
    "fig1.render_to_file('MB_Bruno.svg')"
   ]
  },
  {
   "cell_type": "code",
   "execution_count": null,
   "metadata": {
    "collapsed": true
   },
   "outputs": [],
   "source": []
  },
  {
   "cell_type": "code",
   "execution_count": null,
   "metadata": {
    "collapsed": true
   },
   "outputs": [],
   "source": []
  }
 ],
 "metadata": {
  "kernelspec": {
   "display_name": "Python 3",
   "language": "python",
   "name": "python3"
  },
  "language_info": {
   "codemirror_mode": {
    "name": "ipython",
    "version": 3
   },
   "file_extension": ".py",
   "mimetype": "text/x-python",
   "name": "python",
   "nbconvert_exporter": "python",
   "pygments_lexer": "ipython3",
   "version": "3.5.2"
  }
 },
 "nbformat": 4,
 "nbformat_minor": 0
}
